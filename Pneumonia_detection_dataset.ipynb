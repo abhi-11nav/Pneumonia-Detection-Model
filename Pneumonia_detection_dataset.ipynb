{
  "nbformat": 4,
  "nbformat_minor": 0,
  "metadata": {
    "colab": {
      "name": "Pneumonia_detection dataset.ipynb",
      "provenance": [],
      "mount_file_id": "1i_zq54-WLtuVSThg-OrKQdVlSrHnQSVd",
      "authorship_tag": "ABX9TyO0Brgl/NaqLvlYACA7g5DG"
    },
    "kernelspec": {
      "name": "python3",
      "display_name": "Python 3"
    },
    "language_info": {
      "name": "python"
    },
    "accelerator": "GPU",
    "gpuClass": "standard"
  },
  "cells": [
    {
      "cell_type": "code",
      "execution_count": 14,
      "metadata": {
        "id": "mOH5q9YvGJyt"
      },
      "outputs": [],
      "source": [
        "# Importing the necessary libraries \n",
        "\n",
        "import pandas as pd\n",
        "\n",
        "import tensorflow as tf \n",
        "from tensorflow import keras \n",
        "\n",
        "from keras.layers import Dense, Flatten, Input \n",
        "from keras.models import Model, Sequential\n",
        "from keras.preprocessing import image\n",
        "from keras.preprocessing.image import ImageDataGenerator\n",
        "\n",
        "from keras.applications.vgg16 import VGG16\n",
        "\n",
        "from glob import glob \n",
        "\n",
        "# Visualization libraries \n",
        "import matplotlib.pyplot as plt\n",
        "%matplotlib inline \n",
        "import seaborn as sns"
      ]
    },
    {
      "cell_type": "code",
      "source": [
        "# Checking the version of tensorflow\n",
        "\n",
        "tf.__version__"
      ],
      "metadata": {
        "colab": {
          "base_uri": "https://localhost:8080/",
          "height": 37
        },
        "id": "DQ47PT2KJnHN",
        "outputId": "e98dada2-a8e8-4896-f6b9-2f42bdf0eec9"
      },
      "execution_count": 11,
      "outputs": [
        {
          "output_type": "execute_result",
          "data": {
            "text/plain": [
              "'2.8.2'"
            ],
            "application/vnd.google.colaboratory.intrinsic+json": {
              "type": "string"
            }
          },
          "metadata": {},
          "execution_count": 11
        }
      ]
    },
    {
      "cell_type": "code",
      "source": [
        "# Declaring the standard image size \n",
        "\n",
        "image_size = [224,224]"
      ],
      "metadata": {
        "id": "FJbTcXJxKiaf"
      },
      "execution_count": 2,
      "outputs": []
    },
    {
      "cell_type": "code",
      "source": [
        "# Specifying the path of dataset\n",
        "\n",
        "train_path = \"/content/drive/MyDrive/chest_xray/train\"\n",
        "\n",
        "test_path = \"/content/drive/MyDrive/chest_xray/test\""
      ],
      "metadata": {
        "id": "uzcJvF8RLLe5"
      },
      "execution_count": 4,
      "outputs": []
    },
    {
      "cell_type": "code",
      "source": [
        "# Loading the VGG16 model \n",
        "\n",
        "model = VGG16(input_shape = image_size+[3], weights=\"imagenet\", include_top=False)"
      ],
      "metadata": {
        "id": "ZYSbw_wULWfJ"
      },
      "execution_count": 7,
      "outputs": []
    },
    {
      "cell_type": "code",
      "source": [
        "# Setting the trainable to False for all the layers in the model to stick with the vgg16 pretrained weights \n",
        "\n",
        "\n",
        "for layers in model.layers:\n",
        "  layers.trainable = False"
      ],
      "metadata": {
        "id": "fPmpf7eJNdzq"
      },
      "execution_count": 12,
      "outputs": []
    },
    {
      "cell_type": "code",
      "source": [
        "# Let us store the number of output classes in a variable \n",
        "\n",
        "class_count = glob(train_path+\"/*\")\n",
        "\n",
        "print(len(class_count),\"is the number of classes to be classified\")"
      ],
      "metadata": {
        "colab": {
          "base_uri": "https://localhost:8080/"
        },
        "id": "UBtAYHFnN7R5",
        "outputId": "a39b34aa-0c03-4208-84c0-2a2c15fcc6f4"
      },
      "execution_count": 17,
      "outputs": [
        {
          "output_type": "stream",
          "name": "stdout",
          "text": [
            "2 is the number of classes to be classified\n"
          ]
        }
      ]
    },
    {
      "cell_type": "code",
      "source": [
        "# Flattening the output layer to add a fully connected layer to the model \n",
        "\n",
        "fc_layer = Flatten()(model.output)\n",
        "\n",
        "# Adding a final fully connected layer \n",
        "\n",
        "fc_layer_2 = Flatten()(fc_layer)"
      ],
      "metadata": {
        "id": "3qfnLZUiObCK"
      },
      "execution_count": 28,
      "outputs": []
    },
    {
      "cell_type": "code",
      "source": [
        "# Builiding the final layer / output layer for the model \n",
        "\n",
        "prediction_layer = Dense(len(class_count), activation=\"softmax\")(fc_layer_2)"
      ],
      "metadata": {
        "id": "JQPXi8orO2Cu"
      },
      "execution_count": 29,
      "outputs": []
    },
    {
      "cell_type": "code",
      "source": [
        "# Creating the model object \n",
        "\n",
        "final_model = Model(inputs = model.input, outputs = prediction_layer)"
      ],
      "metadata": {
        "id": "CkVWMVdjRC2C"
      },
      "execution_count": 30,
      "outputs": []
    },
    {
      "cell_type": "code",
      "source": [
        "# Visualizing the summary of the model \n",
        "\n",
        "final_model.summary()"
      ],
      "metadata": {
        "colab": {
          "base_uri": "https://localhost:8080/"
        },
        "id": "wbF916v8RQud",
        "outputId": "5c99d3b4-d63e-45a3-c67a-c32ce2d37ed1"
      },
      "execution_count": 31,
      "outputs": [
        {
          "output_type": "stream",
          "name": "stdout",
          "text": [
            "Model: \"model_2\"\n",
            "_________________________________________________________________\n",
            " Layer (type)                Output Shape              Param #   \n",
            "=================================================================\n",
            " input_2 (InputLayer)        [(None, 224, 224, 3)]     0         \n",
            "                                                                 \n",
            " block1_conv1 (Conv2D)       (None, 224, 224, 64)      1792      \n",
            "                                                                 \n",
            " block1_conv2 (Conv2D)       (None, 224, 224, 64)      36928     \n",
            "                                                                 \n",
            " block1_pool (MaxPooling2D)  (None, 112, 112, 64)      0         \n",
            "                                                                 \n",
            " block2_conv1 (Conv2D)       (None, 112, 112, 128)     73856     \n",
            "                                                                 \n",
            " block2_conv2 (Conv2D)       (None, 112, 112, 128)     147584    \n",
            "                                                                 \n",
            " block2_pool (MaxPooling2D)  (None, 56, 56, 128)       0         \n",
            "                                                                 \n",
            " block3_conv1 (Conv2D)       (None, 56, 56, 256)       295168    \n",
            "                                                                 \n",
            " block3_conv2 (Conv2D)       (None, 56, 56, 256)       590080    \n",
            "                                                                 \n",
            " block3_conv3 (Conv2D)       (None, 56, 56, 256)       590080    \n",
            "                                                                 \n",
            " block3_pool (MaxPooling2D)  (None, 28, 28, 256)       0         \n",
            "                                                                 \n",
            " block4_conv1 (Conv2D)       (None, 28, 28, 512)       1180160   \n",
            "                                                                 \n",
            " block4_conv2 (Conv2D)       (None, 28, 28, 512)       2359808   \n",
            "                                                                 \n",
            " block4_conv3 (Conv2D)       (None, 28, 28, 512)       2359808   \n",
            "                                                                 \n",
            " block4_pool (MaxPooling2D)  (None, 14, 14, 512)       0         \n",
            "                                                                 \n",
            " block5_conv1 (Conv2D)       (None, 14, 14, 512)       2359808   \n",
            "                                                                 \n",
            " block5_conv2 (Conv2D)       (None, 14, 14, 512)       2359808   \n",
            "                                                                 \n",
            " block5_conv3 (Conv2D)       (None, 14, 14, 512)       2359808   \n",
            "                                                                 \n",
            " block5_pool (MaxPooling2D)  (None, 7, 7, 512)         0         \n",
            "                                                                 \n",
            " flatten_2 (Flatten)         (None, 25088)             0         \n",
            "                                                                 \n",
            " flatten_3 (Flatten)         (None, 25088)             0         \n",
            "                                                                 \n",
            " dense_3 (Dense)             (None, 2)                 50178     \n",
            "                                                                 \n",
            "=================================================================\n",
            "Total params: 14,764,866\n",
            "Trainable params: 50,178\n",
            "Non-trainable params: 14,714,688\n",
            "_________________________________________________________________\n"
          ]
        }
      ]
    },
    {
      "cell_type": "markdown",
      "source": [
        "### The model is now built "
      ],
      "metadata": {
        "id": "LcZi406zR85B"
      }
    },
    {
      "cell_type": "code",
      "source": [
        "# Setting the loss function, optimizer and evaluation metric for the model \n",
        "\n",
        "final_model.compile(loss=\"categorical_crossentropy\", optimizer=\"adam\", metrics=[\"accuracy\"])"
      ],
      "metadata": {
        "id": "8PBvMUpYRWGy"
      },
      "execution_count": 47,
      "outputs": []
    },
    {
      "cell_type": "code",
      "source": [
        "# Using the ImageDataGenerator to generate images with variablility \n",
        "\n",
        "train_datagen =  ImageDataGenerator(rescale = 1./255,\n",
        "                                   shear_range = 0.2,\n",
        "                                   zoom_range = 0.3,\n",
        "                                   horizontal_flip = True,\n",
        "                                   vertical_flip = True)\n",
        "\n",
        "# For training data we only rescale the data \n",
        "test_datagen = ImageDataGenerator(rescale=1./255)"
      ],
      "metadata": {
        "id": "92JLPWfKU-pR"
      },
      "execution_count": 43,
      "outputs": []
    },
    {
      "cell_type": "code",
      "source": [
        "# Importing training set  \n",
        "\n",
        "training_set = train_datagen.flow_from_directory(train_path, target_size=(224,224),batch_size=16, class_mode=\"categorical\")"
      ],
      "metadata": {
        "colab": {
          "base_uri": "https://localhost:8080/"
        },
        "id": "sp4jPFUEVstx",
        "outputId": "96c1c4cd-8a21-4133-a0a2-221f79ed0648"
      },
      "execution_count": 44,
      "outputs": [
        {
          "output_type": "stream",
          "name": "stdout",
          "text": [
            "Found 5226 images belonging to 2 classes.\n"
          ]
        }
      ]
    },
    {
      "cell_type": "code",
      "source": [
        "test_set = test_datagen.flow_from_directory(test_path, target_size=(224,224),batch_size=16,class_mode=\"categorical\")"
      ],
      "metadata": {
        "colab": {
          "base_uri": "https://localhost:8080/"
        },
        "id": "GNi7TMWWWKLA",
        "outputId": "ebe01a89-de6d-4ab3-b1ec-0057471acf96"
      },
      "execution_count": 45,
      "outputs": [
        {
          "output_type": "stream",
          "name": "stdout",
          "text": [
            "Found 624 images belonging to 2 classes.\n"
          ]
        }
      ]
    },
    {
      "cell_type": "code",
      "source": [
        "# Calling the fit on final model and passign the data and other values as arguments to train the model \n",
        "\n",
        "history = final_model.fit(training_set, validation_data = test_set, epochs=20, steps_per_epoch=len(training_set), validation_steps= len(test_set))"
      ],
      "metadata": {
        "colab": {
          "base_uri": "https://localhost:8080/"
        },
        "id": "YJ7JeGVLWWUO",
        "outputId": "dc92f289-b678-4c3b-f182-1d1d49c16b91"
      },
      "execution_count": 56,
      "outputs": [
        {
          "metadata": {
            "tags": null
          },
          "name": "stdout",
          "output_type": "stream",
          "text": [
            "Epoch 1/20\n",
            "327/327 [==============================] - 134s 409ms/step - loss: 0.1251 - accuracy: 0.9635 - val_loss: 0.4438 - val_accuracy: 0.9119\n",
            "Epoch 2/20\n",
            "327/327 [==============================] - 127s 389ms/step - loss: 0.1280 - accuracy: 0.9602 - val_loss: 0.4545 - val_accuracy: 0.9054\n",
            "Epoch 3/20\n",
            "327/327 [==============================] - 127s 387ms/step - loss: 0.1082 - accuracy: 0.9682 - val_loss: 0.6497 - val_accuracy: 0.8878\n",
            "Epoch 4/20\n",
            "327/327 [==============================] - 130s 397ms/step - loss: 0.0998 - accuracy: 0.9679 - val_loss: 0.4981 - val_accuracy: 0.8798\n",
            "Epoch 5/20\n",
            "327/327 [==============================] - 128s 392ms/step - loss: 0.1305 - accuracy: 0.9602 - val_loss: 0.5209 - val_accuracy: 0.9038\n",
            "Epoch 6/20\n",
            "327/327 [==============================] - 126s 385ms/step - loss: 0.1482 - accuracy: 0.9621 - val_loss: 1.2490 - val_accuracy: 0.8157\n",
            "Epoch 7/20\n",
            "327/327 [==============================] - 127s 388ms/step - loss: 0.1240 - accuracy: 0.9654 - val_loss: 0.7309 - val_accuracy: 0.8910\n",
            "Epoch 8/20\n",
            "327/327 [==============================] - 127s 387ms/step - loss: 0.1242 - accuracy: 0.9642 - val_loss: 0.3890 - val_accuracy: 0.9135\n",
            "Epoch 9/20\n",
            "327/327 [==============================] - 129s 395ms/step - loss: 0.1366 - accuracy: 0.9621 - val_loss: 0.4942 - val_accuracy: 0.9183\n",
            "Epoch 10/20\n",
            "327/327 [==============================] - 129s 393ms/step - loss: 0.1107 - accuracy: 0.9654 - val_loss: 0.6103 - val_accuracy: 0.9006\n",
            "Epoch 11/20\n",
            "327/327 [==============================] - 129s 394ms/step - loss: 0.1246 - accuracy: 0.9638 - val_loss: 0.9292 - val_accuracy: 0.8766\n",
            "Epoch 12/20\n",
            "327/327 [==============================] - 129s 393ms/step - loss: 0.1083 - accuracy: 0.9698 - val_loss: 0.4816 - val_accuracy: 0.9071\n",
            "Epoch 13/20\n",
            "327/327 [==============================] - 128s 390ms/step - loss: 0.1402 - accuracy: 0.9629 - val_loss: 0.5636 - val_accuracy: 0.8990\n",
            "Epoch 14/20\n",
            "327/327 [==============================] - 129s 395ms/step - loss: 0.1481 - accuracy: 0.9600 - val_loss: 0.7037 - val_accuracy: 0.8942\n",
            "Epoch 15/20\n",
            "327/327 [==============================] - 129s 394ms/step - loss: 0.1053 - accuracy: 0.9705 - val_loss: 0.4182 - val_accuracy: 0.9247\n",
            "Epoch 16/20\n",
            "327/327 [==============================] - 129s 394ms/step - loss: 0.1484 - accuracy: 0.9592 - val_loss: 0.5651 - val_accuracy: 0.9006\n",
            "Epoch 17/20\n",
            "327/327 [==============================] - 132s 403ms/step - loss: 0.1038 - accuracy: 0.9719 - val_loss: 0.4027 - val_accuracy: 0.9151\n",
            "Epoch 18/20\n",
            "327/327 [==============================] - 127s 389ms/step - loss: 0.0969 - accuracy: 0.9713 - val_loss: 0.5083 - val_accuracy: 0.9087\n",
            "Epoch 19/20\n",
            "327/327 [==============================] - 128s 390ms/step - loss: 0.1379 - accuracy: 0.9642 - val_loss: 0.7165 - val_accuracy: 0.8413\n",
            "Epoch 20/20\n",
            "327/327 [==============================] - 126s 386ms/step - loss: 0.1342 - accuracy: 0.9635 - val_loss: 0.4853 - val_accuracy: 0.9103\n"
          ]
        }
      ]
    },
    {
      "cell_type": "code",
      "source": [
        "plt.plot(history.history['accuracy'], color=\"black\")\n",
        "plt.plot(history.history['val_accuracy'])"
      ],
      "metadata": {
        "colab": {
          "base_uri": "https://localhost:8080/",
          "height": 282
        },
        "id": "4vQ7lOcXWaL_",
        "outputId": "8eda0c3f-f1f9-44ad-9158-d7b1e73466dc"
      },
      "execution_count": 57,
      "outputs": [
        {
          "output_type": "execute_result",
          "data": {
            "text/plain": [
              "[<matplotlib.lines.Line2D at 0x7f993f8b74d0>]"
            ]
          },
          "metadata": {},
          "execution_count": 57
        },
        {
          "output_type": "display_data",
          "data": {
            "text/plain": [
              "<Figure size 432x288 with 1 Axes>"
            ],
            "image/png": "[encoded data removed]"
          },
          "metadata": {
            "needs_background": "light"
          }
        }
      ]
    },
    {
      "cell_type": "code",
      "source": [
        "plt.plot(history.history['loss'], color=\"black\")\n",
        "plt.plot(history.history['val_loss'])"
      ],
      "metadata": {
        "colab": {
          "base_uri": "https://localhost:8080/",
          "height": 282
        },
        "id": "S0Df9vSWXCZG",
        "outputId": "a6a52ea4-d8bd-4706-d76e-c9a54e958fdb"
      },
      "execution_count": 58,
      "outputs": [
        {
          "output_type": "execute_result",
          "data": {
            "text/plain": [
              "[<matplotlib.lines.Line2D at 0x7f993f8a7ed0>]"
            ]
          },
          "metadata": {},
          "execution_count": 58
        },
        {
          "output_type": "display_data",
          "data": {
            "text/plain": [
              "<Figure size 432x288 with 1 Axes>"
            ],
            "image/png": "[encoded data removed]"
          },
          "metadata": {
            "needs_background": "light"
          }
        }
      ]
    },
    {
      "cell_type": "code",
      "source": [
        "final_model.save(\"pneumonia_model.h5\")"
      ],
      "metadata": {
        "id": "B9aYgN3SvdeO"
      },
      "execution_count": 59,
      "outputs": []
    },
    {
      "cell_type": "code",
      "source": [
        ""
      ],
      "metadata": {
        "id": "FENBNs3E5eaT"
      },
      "execution_count": null,
      "outputs": []
    }
  ]
}